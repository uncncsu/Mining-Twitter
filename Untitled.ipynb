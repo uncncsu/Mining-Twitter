{
 "cells": [
  {
   "cell_type": "code",
   "execution_count": 1,
   "metadata": {},
   "outputs": [],
   "source": [
    "import os\n",
    "import sys\n",
    "import csv\n",
    "import tweepy\n",
    "import matplotlib.pyplot as plt\n",
    "\n",
    "from collections import Counter\n",
    "from aylienapiclient import textapi"
   ]
  },
  {
   "cell_type": "code",
   "execution_count": 2,
   "metadata": {},
   "outputs": [],
   "source": [
    "open_kwargs = {}\n"
   ]
  },
  {
   "cell_type": "code",
   "execution_count": 3,
   "metadata": {},
   "outputs": [],
   "source": [
    "if sys.version_info[0] < 3:\n",
    "    input = raw_input\n",
    "else:\n",
    "    open_kwargs = {'newline': ''}"
   ]
  },
  {
   "cell_type": "code",
   "execution_count": 4,
   "metadata": {},
   "outputs": [],
   "source": [
    "# Twitter credentials\n",
    "consumer_key = \"Your consumer key here\"\n",
    "consumer_secret = \"your secret consumer key here\"\n",
    "access_token = \"your access token here\"\n",
    "access_token_secret = \"your secret access token here\""
   ]
  },
  {
   "cell_type": "code",
   "execution_count": 5,
   "metadata": {},
   "outputs": [],
   "source": [
    "# AYLIEN credentials\n",
    "application_id = \"923846fa\"\n",
    "application_key = \"f79a2ec4748a67863e778d47c936a52c\"\n"
   ]
  },
  {
   "cell_type": "code",
   "execution_count": null,
   "metadata": {},
   "outputs": [],
   "source": [
    "# set up an instance of Tweepy\n",
    "auth = tweepy.OAuthHandler(consumer_key, consumer_secret)\n",
    "auth.set_access_token(access_token, access_token_secret)\n",
    "api = tweepy.API(auth)"
   ]
  },
  {
   "cell_type": "code",
   "execution_count": null,
   "metadata": {},
   "outputs": [],
   "source": [
    "# set up an instance of the AYLIEN Text API\n",
    "client = textapi.Client(application_id, application_key)"
   ]
  },
  {
   "cell_type": "code",
   "execution_count": null,
   "metadata": {},
   "outputs": [],
   "source": [
    "#here insert a few lines to open the previous CSV file and read the last entry for id\n",
    "max_id = 0\n",
    "\n",
    "file_name = 'Sentiment_Analysis_of_Tweets_About_OLDTUFFY_query.csv'\n",
    "\n",
    "if os.path.exists(file_name):\n",
    "    with open(file_name, 'r') as f:\n",
    "        for row in csv.DictReader(f):\n",
    "            max_id = row['Tweet_ID']\n",
    "else:\n",
    "        with open(file_name, 'w', **open_kwargs) as f:\n",
    "            csv.writer(f).writerow([\n",
    "                                    \"Tweet_ID\",\n",
    "                                    \"Time\",\n",
    "                                    \"Tweet\",\n",
    "                                    \"Sentiment\"])"
   ]
  },
  {
   "cell_type": "code",
   "execution_count": null,
   "metadata": {},
   "outputs": [],
   "source": [
    "results = api.search(\n",
    "    lang=\"en\",\n",
    "    q=\"Old Tuffy -rt\",\n",
    "    result_type=\"recent\",\n",
    "    count=10,\n",
    "    since_id=max_id\n",
    ")\n",
    "\n",
    "results = sorted(results, key=lambda x: x.id)\n",
    "print(\"--- Gathered Tweets \\n\")\n"
   ]
  },
  {
   "cell_type": "code",
   "execution_count": null,
   "metadata": {},
   "outputs": [],
   "source": [
    "# open a csv file to store the Tweets and their sentiment\n",
    "with open(file_name, 'a', **open_kwargs) as csvfile:\n",
    "    csv_writer = csv.DictWriter(\n",
    "        f=csvfile,\n",
    "        fieldnames=[\n",
    "                    \"Tweet_ID\",\n",
    "                    \"Time\",\n",
    "                    \"Tweet\",\n",
    "                    \"Sentiment\"]\n",
    "    )\n",
    "\n",
    "    print(\"--- Opened a CSV file to store the results of your sentiment analysis... \\n\")\n",
    "\n",
    "    # tidy up the Tweets and send each to the AYLIEN Text API\n",
    "    for c, result in enumerate(results, start=1):\n",
    "        tweet = result.text\n",
    "        tidy_tweet = tweet.strip().encode('ascii', 'ignore')\n",
    "        tweet_time = result.created_at\n",
    "        tweet_id = result.id\n",
    "\n",
    "        if not tweet:\n",
    "            print('Empty Tweet')\n",
    "            continue\n",
    "\n",
    "        response = client.Sentiment({'text': tidy_tweet})\n",
    "        csv_writer.writerow({\n",
    "        \t\"Tweet_ID\": tweet_id,\n",
    "        \t\"Time\": tweet_time,\n",
    "            'Tweet': response['text'],\n",
    "            'Sentiment': response['polarity'],\n",
    "        })\n",
    "\n",
    "        print(\"Analyzed Tweet {}\".format(c))"
   ]
  },
  {
   "cell_type": "code",
   "execution_count": null,
   "metadata": {},
   "outputs": [],
   "source": [
    "#count the data in the Sentiment column of the CSV file\n",
    "with open(file_name, 'r') as data:\n",
    "    counter = Counter()\n",
    "    for row in csv.DictReader(data):\n",
    "        counter[row['Sentiment']] += 1\n",
    "\n",
    "    positive = counter['positive']\n",
    "    negative = counter['negative']\n",
    "    neutral = counter['neutral']"
   ]
  },
  {
   "cell_type": "code",
   "execution_count": null,
   "metadata": {},
   "outputs": [],
   "source": [
    "# declare the variables for the pie chart, using the Counter variables for \"sizes\"\n",
    "colors = ['green', 'red', 'grey']\n",
    "sizes = [positive, negative, neutral]\n",
    "labels = 'Positive', 'Negative', 'Neutral'\n"
   ]
  },
  {
   "cell_type": "code",
   "execution_count": null,
   "metadata": {},
   "outputs": [],
   "source": [
    "# use matplotlib to plot the chart\n",
    "plt.pie(\n",
    "    x=sizes,\n",
    "    shadow=True,\n",
    "    colors=colors,\n",
    "    labels=labels,\n",
    "    startangle=90\n",
    ")\n",
    "\n",
    "plt.title(\"Sentiment of {} Tweets about Your Subject\".format(sum(counter.values())))\n",
    "plt.show()"
   ]
  }
 ],
 "metadata": {
  "kernelspec": {
   "display_name": "Python 3",
   "language": "python",
   "name": "python3"
  },
  "language_info": {
   "codemirror_mode": {
    "name": "ipython",
    "version": 3
   },
   "file_extension": ".py",
   "mimetype": "text/x-python",
   "name": "python",
   "nbconvert_exporter": "python",
   "pygments_lexer": "ipython3",
   "version": "3.7.1"
  }
 },
 "nbformat": 4,
 "nbformat_minor": 2
}
